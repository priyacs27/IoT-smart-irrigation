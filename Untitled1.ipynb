{
 "cells": [
  {
   "cell_type": "code",
   "execution_count": null,
   "id": "aee4749f-cb50-4616-bb5c-9b407097794c",
   "metadata": {},
   "outputs": [],
   "source": [
    "import streamlit as st\n",
    "import numpy as np\n",
    "import tensorflow as tf\n",
    "\n",
    "# Load your trained deep learning model (cached to avoid reloading on every run)\n",
    "@st.cache_resource\n",
    "def load_model():\n",
    "    model = tf.keras.models.load_model('irrigation_model.h5')\n",
    "    return model\n",
    "\n",
    "model = load_model()\n",
    "\n",
    "st.title(\"IoT-based Smart Water Irrigation System\")\n",
    "\n",
    "st.markdown(\"\"\"\n",
    "Enter the current sensor readings below to get irrigation recommendation.\n",
    "\"\"\")\n",
    "\n",
    "# Input sensor data\n",
    "soil_moisture = st.number_input(\"Soil Moisture (%)\", min_value=0.0, max_value=100.0, value=30.0, step=0.1)\n",
    "temperature = st.number_input(\"Temperature (°C)\", min_value=-10.0, max_value=60.0, value=25.0, step=0.1)\n",
    "humidity = st.number_input(\"Humidity (%)\", min_value=0.0, max_value=100.0, value=50.0, step=0.1)\n",
    "\n",
    "if st.button(\"Predict Irrigation Need\"):\n",
    "    # Prepare input data for prediction\n",
    "    input_data = np.array([[soil_moisture, temperature, humidity]])\n",
    "    \n",
    "    # Predict irrigation need (assuming output is sigmoid probability)\n",
    "    prediction = model.predict(input_data)\n",
    "    irrigation_prob = prediction[0][0]\n",
    "    \n",
    "    st.write(f\"Prediction Probability: {irrigation_prob:.2f}\")\n",
    "\n",
    "    # Threshold for decision can be adjusted\n",
    "    if irrigation_prob > 0.5:\n",
    "        st.success(f\"Irrigation Recommended 🌱💧\")\n",
    "    else:\n",
    "        st.info(f\"No Irrigation Needed 🚫\")\n",
    "\n",
    "st.markdown(\"---\")\n",
    "st.markdown(\"Developed by YourName | Smart Agriculture Project\")\n"
   ]
  }
 ],
 "metadata": {
  "kernelspec": {
   "display_name": "Python 3 (ipykernel)",
   "language": "python",
   "name": "python3"
  },
  "language_info": {
   "codemirror_mode": {
    "name": "ipython",
    "version": 3
   },
   "file_extension": ".py",
   "mimetype": "text/x-python",
   "name": "python",
   "nbconvert_exporter": "python",
   "pygments_lexer": "ipython3",
   "version": "3.12.9"
  }
 },
 "nbformat": 4,
 "nbformat_minor": 5
}
